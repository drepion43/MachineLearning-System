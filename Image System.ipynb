{
 "cells": [
  {
   "cell_type": "markdown",
   "id": "12218918",
   "metadata": {},
   "source": [
    "## 1. K-means를 이용한 이미지 군집화"
   ]
  },
  {
   "cell_type": "code",
   "execution_count": 1,
   "id": "8b2dbb7f",
   "metadata": {},
   "outputs": [
    {
     "name": "stderr",
     "output_type": "stream",
     "text": [
      "c:\\users\\drepi\\anaconda3\\envs\\rhs\\lib\\site-packages\\numpy\\_distributor_init.py:32: UserWarning: loaded more than 1 DLL from .libs:\n",
      "c:\\users\\drepi\\anaconda3\\envs\\rhs\\lib\\site-packages\\numpy\\.libs\\libopenblas.GK7GX5KEQ4F6UYO3P26ULGBQYHGQO7J4.gfortran-win_amd64.dll\n",
      "c:\\users\\drepi\\anaconda3\\envs\\rhs\\lib\\site-packages\\numpy\\.libs\\libopenblas.XWYDX2IKJW2NMTWSFYNGFUWKQU3LYTCZ.gfortran-win_amd64.dll\n",
      "  stacklevel=1)\n"
     ]
    }
   ],
   "source": [
    "import cv2\n",
    "import sys\n",
    "import numpy as np\n",
    "from matplotlib import pyplot as plt\n",
    "\n",
    "def image_kmeans(fin_img,K,fout_img):\n",
    "    img=cv2.imread(fin_img)\n",
    "    \n",
    "    Z=img.reshape((-1,3))\n",
    "    \n",
    "    Z=np.float32(Z)\n",
    "    \n",
    "    criteria=(cv2.TERM_CRITERIA_EPS+cv2.TERM_CRITERIA_MAX_ITER,10,1.0)\n",
    "    n_init=10\n",
    "    ret,label,center=cv2.kmeans(Z,K,None,criteria,n_init,cv2.KMEANS_RANDOM_CENTERS)\n",
    "    \n",
    "    center=np.uint8(center)\n",
    "    \n",
    "    res=center[label.flatten()]\n",
    "    res2=res.reshape((img.shape))\n",
    "    \n",
    "    plt.imshow(cv2.cvtColor(res2,cv2.COLOR_BGR2RGB))\n",
    "    plt.title('k=%d',K)\n",
    "    plt.savefig(fout_img)\n"
   ]
  },
  {
   "cell_type": "code",
   "execution_count": null,
   "id": "bd078669",
   "metadata": {},
   "outputs": [],
   "source": []
  }
 ],
 "metadata": {
  "kernelspec": {
   "display_name": "Python 3 (ipykernel)",
   "language": "python",
   "name": "python3"
  },
  "language_info": {
   "codemirror_mode": {
    "name": "ipython",
    "version": 3
   },
   "file_extension": ".py",
   "mimetype": "text/x-python",
   "name": "python",
   "nbconvert_exporter": "python",
   "pygments_lexer": "ipython3",
   "version": "3.7.10"
  }
 },
 "nbformat": 4,
 "nbformat_minor": 5
}
